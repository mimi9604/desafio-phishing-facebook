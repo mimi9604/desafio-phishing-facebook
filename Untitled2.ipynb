{
  "nbformat": 4,
  "nbformat_minor": 0,
  "metadata": {
    "colab": {
      "provenance": []
    },
    "kernelspec": {
      "name": "python3",
      "display_name": "Python 3"
    },
    "language_info": {
      "name": "python"
    }
  },
  "cells": [
    {
      "cell_type": "code",
      "execution_count": null,
      "metadata": {
        "id": "UOSn43WSnBCY"
      },
      "outputs": [],
      "source": [
        "import os\n",
        "import smtplib\n",
        "from email.mime.multipart import MIMEMultipart\n",
        "from email.mime.text import MIMEText\n",
        "\n",
        "# Verificar se a pasta e o arquivo existem, caso contrário, cria-los\n",
        "if not os.path.exists('e-mails'):\n",
        "    os.makedirs('e-mails')\n",
        "\n",
        "# Verifica se o arquivo de modelo de e-mail existe, caso contrário, cria um modelo de exemplo\n",
        "if not os.path.isfile('e-mails/modelo_de_email_de_phishing.txt'):\n",
        "    with open('e-mails/modelo_de_email_de_phishing.txt', 'w') as file:\n",
        "        file.write(\"\"\"Assunto: Verificação de Segurança no Facebook\n",
        "\n",
        "Olá, usuário do Facebook,\n",
        "\n",
        "Estamos detectando atividades incomuns em sua conta e, para sua segurança, precisamos que você confirme sua identidade.\n",
        "\n",
        "Por favor, clique no link abaixo para iniciar o processo de verificação:\n",
        "\n",
        "[https://www.facebook.com/verificar-conta](https://www.facebook.com/verificar-conta)\n",
        "\n",
        "Se você não tentou fazer login em sua conta, por favor, ignore este e-mail.\n",
        "\n",
        "Atenciosamente,\n",
        "Equipe Facebook\n",
        "\"\"\")\n",
        "\n",
        "# Configurações do e-mail\n",
        "sender_email = \"seu_email@gmail.com\"  # Substitua pelo seu e-mail\n",
        "receiver_email = \"destinatario_email@example.com\"  # E-mail do destinatário\n",
        "password = \"sua_senha\"  # Substitua pela senha do seu e-mail\n",
        "\n",
        "# Configuração do servidor SMTP (Gmail)\n",
        "smtp_server = \"smtp.gmail.com\"\n",
        "smtp_port = 587\n",
        "\n",
        "# Criação do conteúdo do modelo de e-mail (poderia ser lido diretamente de 'modelo_de_email_de_phishing.txt')\n",
        "with open(\"e-mails/modelo_de_email_de_phishing.txt\", \"r\") as file:\n",
        "    phishing_email_content = file.read()\n"
      ]
    },
    {
      "cell_type": "code",
      "source": [],
      "metadata": {
        "id": "lSJVVCCxv2nC"
      },
      "execution_count": null,
      "outputs": []
    }
  ]
}